{
 "metadata": {
  "language_info": {
   "codemirror_mode": {
    "name": "ipython",
    "version": 3
   },
   "file_extension": ".py",
   "mimetype": "text/x-python",
   "name": "python",
   "nbconvert_exporter": "python",
   "pygments_lexer": "ipython3",
   "version": "3.8.5"
  },
  "orig_nbformat": 2,
  "kernelspec": {
   "name": "python385jvsc74a57bd0b3eae607148ff0a599e70772c0f7727589d0b1beea087ab41fc4f7f594d8e05a",
   "display_name": "Python 3.8.5 64-bit ('base': conda)"
  },
  "metadata": {
   "interpreter": {
    "hash": "9c6bdcf356e3596871587ac993f00432123db66f2a0825ddef4b2f0e6b7efa9f"
   }
  }
 },
 "nbformat": 4,
 "nbformat_minor": 2,
 "cells": [
  {
   "cell_type": "code",
   "execution_count": 25,
   "metadata": {},
   "outputs": [],
   "source": [
    "import os \n",
    "import numpy as np \n",
    "import pandas as pd\n",
    "from matplotlib import pyplot as plt\n",
    "import seaborn as sns\n",
    "\n",
    "from statsmodels.tsa.arima_model import ARIMA\n",
    "from statsmodels.tsa.api import ExponentialSmoothing, SimpleExpSmoothing, Holt\n",
    "\n",
    "from sklearn.metrics import mean_squared_error\n",
    "from sklearn.linear_model import LinearRegression\n",
    "from sklearn import linear_model\n",
    "\n",
    "import pmdarima as pm\n",
    "from pmdarima.model_selection import train_test_split\n",
    "\n",
    "from fbprophet import Prophet\n",
    "\n",
    "from pandas import to_datetime\n",
    "\n",
    "import itertools\n",
    "import warnings\n",
    "\n",
    "import datetime\n",
    "from datetime import datetime"
   ]
  },
  {
   "source": [
    "## Importin S&P500 Data"
   ],
   "cell_type": "markdown",
   "metadata": {}
  },
  {
   "cell_type": "code",
   "execution_count": 27,
   "metadata": {},
   "outputs": [],
   "source": [
    "df = pd.read_csv('SP500.csv')"
   ]
  },
  {
   "cell_type": "code",
   "execution_count": 28,
   "metadata": {},
   "outputs": [
    {
     "output_type": "execute_result",
     "data": {
      "text/plain": [
       "           Date      Open      High       Low    Close* Adj Close**  \\\n",
       "0  Jun 07, 2021  4,229.34  4,232.34  4,215.66  4,226.52    4,226.52   \n",
       "1  Jun 04, 2021  4,206.05  4,233.45  4,206.05  4,229.89    4,229.89   \n",
       "2  Jun 03, 2021  4,191.43  4,204.39  4,167.93  4,192.85    4,192.85   \n",
       "3  Jun 02, 2021  4,206.82  4,217.37  4,198.27  4,208.12    4,208.12   \n",
       "4  Jun 01, 2021  4,216.52  4,234.12  4,197.59  4,202.04    4,202.04   \n",
       "\n",
       "          Volume  \n",
       "0  3,835,570,000  \n",
       "1  3,487,070,000  \n",
       "2  4,579,450,000  \n",
       "3  4,860,930,000  \n",
       "4  4,122,960,000  "
      ],
      "text/html": "<div>\n<style scoped>\n    .dataframe tbody tr th:only-of-type {\n        vertical-align: middle;\n    }\n\n    .dataframe tbody tr th {\n        vertical-align: top;\n    }\n\n    .dataframe thead th {\n        text-align: right;\n    }\n</style>\n<table border=\"1\" class=\"dataframe\">\n  <thead>\n    <tr style=\"text-align: right;\">\n      <th></th>\n      <th>Date</th>\n      <th>Open</th>\n      <th>High</th>\n      <th>Low</th>\n      <th>Close*</th>\n      <th>Adj Close**</th>\n      <th>Volume</th>\n    </tr>\n  </thead>\n  <tbody>\n    <tr>\n      <th>0</th>\n      <td>Jun 07, 2021</td>\n      <td>4,229.34</td>\n      <td>4,232.34</td>\n      <td>4,215.66</td>\n      <td>4,226.52</td>\n      <td>4,226.52</td>\n      <td>3,835,570,000</td>\n    </tr>\n    <tr>\n      <th>1</th>\n      <td>Jun 04, 2021</td>\n      <td>4,206.05</td>\n      <td>4,233.45</td>\n      <td>4,206.05</td>\n      <td>4,229.89</td>\n      <td>4,229.89</td>\n      <td>3,487,070,000</td>\n    </tr>\n    <tr>\n      <th>2</th>\n      <td>Jun 03, 2021</td>\n      <td>4,191.43</td>\n      <td>4,204.39</td>\n      <td>4,167.93</td>\n      <td>4,192.85</td>\n      <td>4,192.85</td>\n      <td>4,579,450,000</td>\n    </tr>\n    <tr>\n      <th>3</th>\n      <td>Jun 02, 2021</td>\n      <td>4,206.82</td>\n      <td>4,217.37</td>\n      <td>4,198.27</td>\n      <td>4,208.12</td>\n      <td>4,208.12</td>\n      <td>4,860,930,000</td>\n    </tr>\n    <tr>\n      <th>4</th>\n      <td>Jun 01, 2021</td>\n      <td>4,216.52</td>\n      <td>4,234.12</td>\n      <td>4,197.59</td>\n      <td>4,202.04</td>\n      <td>4,202.04</td>\n      <td>4,122,960,000</td>\n    </tr>\n  </tbody>\n</table>\n</div>"
     },
     "metadata": {},
     "execution_count": 28
    }
   ],
   "source": [
    "df.head()"
   ]
  },
  {
   "cell_type": "code",
   "execution_count": 30,
   "metadata": {},
   "outputs": [
    {
     "output_type": "stream",
     "name": "stderr",
     "text": [
      "INFO:numexpr.utils:Note: NumExpr detected 12 cores but \"NUMEXPR_MAX_THREADS\" not set, so enforcing safe limit of 8.\n",
      "INFO:numexpr.utils:NumExpr defaulting to 8 threads.\n"
     ]
    },
    {
     "output_type": "execute_result",
     "data": {
      "text/plain": [
       "                Date      Open      High       Low    Close* Adj Close**  \\\n",
       "count           1258      1258      1258      1258      1258        1258   \n",
       "unique          1258      1248      1252      1251      1252        1252   \n",
       "top     Mar 21, 2017  2,832.41  2,271.78  2,160.39  2,268.90    2,268.90   \n",
       "freq               1         2         2         2         2           2   \n",
       "\n",
       "               Volume  \n",
       "count            1258  \n",
       "unique           1257  \n",
       "top     3,884,480,000  \n",
       "freq                2  "
      ],
      "text/html": "<div>\n<style scoped>\n    .dataframe tbody tr th:only-of-type {\n        vertical-align: middle;\n    }\n\n    .dataframe tbody tr th {\n        vertical-align: top;\n    }\n\n    .dataframe thead th {\n        text-align: right;\n    }\n</style>\n<table border=\"1\" class=\"dataframe\">\n  <thead>\n    <tr style=\"text-align: right;\">\n      <th></th>\n      <th>Date</th>\n      <th>Open</th>\n      <th>High</th>\n      <th>Low</th>\n      <th>Close*</th>\n      <th>Adj Close**</th>\n      <th>Volume</th>\n    </tr>\n  </thead>\n  <tbody>\n    <tr>\n      <th>count</th>\n      <td>1258</td>\n      <td>1258</td>\n      <td>1258</td>\n      <td>1258</td>\n      <td>1258</td>\n      <td>1258</td>\n      <td>1258</td>\n    </tr>\n    <tr>\n      <th>unique</th>\n      <td>1258</td>\n      <td>1248</td>\n      <td>1252</td>\n      <td>1251</td>\n      <td>1252</td>\n      <td>1252</td>\n      <td>1257</td>\n    </tr>\n    <tr>\n      <th>top</th>\n      <td>Mar 21, 2017</td>\n      <td>2,832.41</td>\n      <td>2,271.78</td>\n      <td>2,160.39</td>\n      <td>2,268.90</td>\n      <td>2,268.90</td>\n      <td>3,884,480,000</td>\n    </tr>\n    <tr>\n      <th>freq</th>\n      <td>1</td>\n      <td>2</td>\n      <td>2</td>\n      <td>2</td>\n      <td>2</td>\n      <td>2</td>\n      <td>2</td>\n    </tr>\n  </tbody>\n</table>\n</div>"
     },
     "metadata": {},
     "execution_count": 30
    }
   ],
   "source": [
    "df.describe()"
   ]
  },
  {
   "cell_type": "code",
   "execution_count": 35,
   "metadata": {},
   "outputs": [
    {
     "output_type": "stream",
     "name": "stdout",
     "text": [
      "<class 'pandas.core.frame.DataFrame'>\nRangeIndex: 1258 entries, 0 to 1257\nData columns (total 7 columns):\n #   Column       Non-Null Count  Dtype \n---  ------       --------------  ----- \n 0   Date         1258 non-null   object\n 1   Open         1258 non-null   object\n 2   High         1258 non-null   object\n 3   Low          1258 non-null   object\n 4   Close*       1258 non-null   object\n 5   Adj Close**  1258 non-null   object\n 6   Volume       1258 non-null   object\ndtypes: object(7)\nmemory usage: 68.9+ KB\n"
     ]
    }
   ],
   "source": [
    "df.info()\n"
   ]
  },
  {
   "cell_type": "code",
   "execution_count": 38,
   "metadata": {},
   "outputs": [
    {
     "output_type": "execute_result",
     "data": {
      "text/plain": [
       "Date           0\n",
       "Open           0\n",
       "High           0\n",
       "Low            0\n",
       "Close*         0\n",
       "Adj Close**    0\n",
       "Volume         0\n",
       "dtype: int64"
      ]
     },
     "metadata": {},
     "execution_count": 38
    }
   ],
   "source": [
    "df.isnull().sum()\n",
    "\n",
    "\n",
    "# no null values present"
   ]
  },
  {
   "source": [
    "## Data Preparation"
   ],
   "cell_type": "markdown",
   "metadata": {}
  },
  {
   "source": [
    "Converting date column to date values."
   ],
   "cell_type": "markdown",
   "metadata": {}
  },
  {
   "source": [
    "df['Date'] = df['Date'].apply(lambda x: datetime.strptime(x, '%b %d, %Y'))"
   ],
   "cell_type": "code",
   "metadata": {},
   "execution_count": null,
   "outputs": []
  },
  {
   "cell_type": "code",
   "execution_count": 44,
   "metadata": {},
   "outputs": [
    {
     "output_type": "execute_result",
     "data": {
      "text/plain": [
       "           Date      Open      High       Low    Close* Adj Close**  \\\n",
       "0    2021-06-07  4,229.34  4,232.34  4,215.66  4,226.52    4,226.52   \n",
       "1    2021-06-04  4,206.05  4,233.45  4,206.05  4,229.89    4,229.89   \n",
       "2    2021-06-03  4,191.43  4,204.39  4,167.93  4,192.85    4,192.85   \n",
       "3    2021-06-02  4,206.82  4,217.37  4,198.27  4,208.12    4,208.12   \n",
       "4    2021-06-01  4,216.52  4,234.12  4,197.59  4,202.04    4,202.04   \n",
       "...         ...       ...       ...       ...       ...         ...   \n",
       "1253 2016-06-14  2,076.65  2,081.30  2,064.10  2,075.32    2,075.32   \n",
       "1254 2016-06-13  2,091.75  2,098.12  2,078.46  2,079.06    2,079.06   \n",
       "1255 2016-06-10  2,109.57  2,109.57  2,089.96  2,096.07    2,096.07   \n",
       "1256 2016-06-09  2,115.65  2,117.64  2,107.73  2,115.48    2,115.48   \n",
       "1257 2016-06-08  2,112.71  2,120.55  2,112.71  2,119.12    2,119.12   \n",
       "\n",
       "             Volume  \n",
       "0     3,835,570,000  \n",
       "1     3,487,070,000  \n",
       "2     4,579,450,000  \n",
       "3     4,860,930,000  \n",
       "4     4,122,960,000  \n",
       "...             ...  \n",
       "1253  3,759,770,000  \n",
       "1254  3,392,030,000  \n",
       "1255  3,515,010,000  \n",
       "1256  3,290,320,000  \n",
       "1257  3,562,060,000  \n",
       "\n",
       "[1258 rows x 7 columns]"
      ],
      "text/html": "<div>\n<style scoped>\n    .dataframe tbody tr th:only-of-type {\n        vertical-align: middle;\n    }\n\n    .dataframe tbody tr th {\n        vertical-align: top;\n    }\n\n    .dataframe thead th {\n        text-align: right;\n    }\n</style>\n<table border=\"1\" class=\"dataframe\">\n  <thead>\n    <tr style=\"text-align: right;\">\n      <th></th>\n      <th>Date</th>\n      <th>Open</th>\n      <th>High</th>\n      <th>Low</th>\n      <th>Close*</th>\n      <th>Adj Close**</th>\n      <th>Volume</th>\n    </tr>\n  </thead>\n  <tbody>\n    <tr>\n      <th>0</th>\n      <td>2021-06-07</td>\n      <td>4,229.34</td>\n      <td>4,232.34</td>\n      <td>4,215.66</td>\n      <td>4,226.52</td>\n      <td>4,226.52</td>\n      <td>3,835,570,000</td>\n    </tr>\n    <tr>\n      <th>1</th>\n      <td>2021-06-04</td>\n      <td>4,206.05</td>\n      <td>4,233.45</td>\n      <td>4,206.05</td>\n      <td>4,229.89</td>\n      <td>4,229.89</td>\n      <td>3,487,070,000</td>\n    </tr>\n    <tr>\n      <th>2</th>\n      <td>2021-06-03</td>\n      <td>4,191.43</td>\n      <td>4,204.39</td>\n      <td>4,167.93</td>\n      <td>4,192.85</td>\n      <td>4,192.85</td>\n      <td>4,579,450,000</td>\n    </tr>\n    <tr>\n      <th>3</th>\n      <td>2021-06-02</td>\n      <td>4,206.82</td>\n      <td>4,217.37</td>\n      <td>4,198.27</td>\n      <td>4,208.12</td>\n      <td>4,208.12</td>\n      <td>4,860,930,000</td>\n    </tr>\n    <tr>\n      <th>4</th>\n      <td>2021-06-01</td>\n      <td>4,216.52</td>\n      <td>4,234.12</td>\n      <td>4,197.59</td>\n      <td>4,202.04</td>\n      <td>4,202.04</td>\n      <td>4,122,960,000</td>\n    </tr>\n    <tr>\n      <th>...</th>\n      <td>...</td>\n      <td>...</td>\n      <td>...</td>\n      <td>...</td>\n      <td>...</td>\n      <td>...</td>\n      <td>...</td>\n    </tr>\n    <tr>\n      <th>1253</th>\n      <td>2016-06-14</td>\n      <td>2,076.65</td>\n      <td>2,081.30</td>\n      <td>2,064.10</td>\n      <td>2,075.32</td>\n      <td>2,075.32</td>\n      <td>3,759,770,000</td>\n    </tr>\n    <tr>\n      <th>1254</th>\n      <td>2016-06-13</td>\n      <td>2,091.75</td>\n      <td>2,098.12</td>\n      <td>2,078.46</td>\n      <td>2,079.06</td>\n      <td>2,079.06</td>\n      <td>3,392,030,000</td>\n    </tr>\n    <tr>\n      <th>1255</th>\n      <td>2016-06-10</td>\n      <td>2,109.57</td>\n      <td>2,109.57</td>\n      <td>2,089.96</td>\n      <td>2,096.07</td>\n      <td>2,096.07</td>\n      <td>3,515,010,000</td>\n    </tr>\n    <tr>\n      <th>1256</th>\n      <td>2016-06-09</td>\n      <td>2,115.65</td>\n      <td>2,117.64</td>\n      <td>2,107.73</td>\n      <td>2,115.48</td>\n      <td>2,115.48</td>\n      <td>3,290,320,000</td>\n    </tr>\n    <tr>\n      <th>1257</th>\n      <td>2016-06-08</td>\n      <td>2,112.71</td>\n      <td>2,120.55</td>\n      <td>2,112.71</td>\n      <td>2,119.12</td>\n      <td>2,119.12</td>\n      <td>3,562,060,000</td>\n    </tr>\n  </tbody>\n</table>\n<p>1258 rows × 7 columns</p>\n</div>"
     },
     "metadata": {},
     "execution_count": 44
    }
   ],
   "source": []
  },
  {
   "source": [
    "Converting the other columns to float"
   ],
   "cell_type": "markdown",
   "metadata": {}
  },
  {
   "cell_type": "code",
   "execution_count": 71,
   "metadata": {},
   "outputs": [
    {
     "output_type": "execute_result",
     "data": {
      "text/plain": [
       "0       3,835,570,000\n",
       "1       3,487,070,000\n",
       "2       4,579,450,000\n",
       "3       4,860,930,000\n",
       "4       4,122,960,000\n",
       "            ...      \n",
       "1253    3,759,770,000\n",
       "1254    3,392,030,000\n",
       "1255    3,515,010,000\n",
       "1256    3,290,320,000\n",
       "1257    3,562,060,000\n",
       "Name: Volume, Length: 1258, dtype: object"
      ]
     },
     "metadata": {},
     "execution_count": 71
    }
   ],
   "source": [
    "    df.iloc[:]"
   ]
  },
  {
   "cell_type": "code",
   "execution_count": 66,
   "metadata": {},
   "outputs": [
    {
     "output_type": "execute_result",
     "data": {
      "text/plain": [
       "'en_US.UTF-8'"
      ]
     },
     "metadata": {},
     "execution_count": 66
    }
   ],
   "source": [
    "import locale\n",
    "locale.setlocale(locale.LC_ALL, 'en_US.UTF-8')\n",
    "'en_US.UTF-8'"
   ]
  },
  {
   "cell_type": "code",
   "execution_count": 81,
   "metadata": {},
   "outputs": [],
   "source": [
    "for i in range(1,7):\n",
    "    df.iloc[:,i]=df.iloc[:,i].apply(lambda x: float(x.replace(',','')))"
   ]
  },
  {
   "cell_type": "code",
   "execution_count": 84,
   "metadata": {},
   "outputs": [
    {
     "output_type": "stream",
     "name": "stdout",
     "text": [
      "<class 'pandas.core.frame.DataFrame'>\nRangeIndex: 1258 entries, 0 to 1257\nData columns (total 7 columns):\n #   Column       Non-Null Count  Dtype         \n---  ------       --------------  -----         \n 0   Date         1258 non-null   datetime64[ns]\n 1   Open         1258 non-null   float64       \n 2   High         1258 non-null   float64       \n 3   Low          1258 non-null   float64       \n 4   Close*       1258 non-null   float64       \n 5   Adj Close**  1258 non-null   float64       \n 6   Volume       1258 non-null   float64       \ndtypes: datetime64[ns](1), float64(6)\nmemory usage: 68.9 KB\n"
     ]
    }
   ],
   "source": [
    "df.info()"
   ]
  },
  {
   "cell_type": "code",
   "execution_count": null,
   "metadata": {},
   "outputs": [],
   "source": []
  }
 ]
}